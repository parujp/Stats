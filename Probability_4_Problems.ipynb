{
 "cells": [
  {
   "cell_type": "code",
   "execution_count": 2,
   "metadata": {
    "ExecuteTime": {
     "end_time": "2018-11-25T11:05:34.297079Z",
     "start_time": "2018-11-25T11:05:34.287117Z"
    },
    "collapsed": true
   },
   "outputs": [],
   "source": [
    "# Set up Notebook\n",
    "\n",
    "% matplotlib inline\n",
    "\n",
    "# Standard imports\n",
    "import numpy as np\n",
    "import pandas as pd\n",
    "import matplotlib.pyplot as plt\n",
    "import seaborn as sns\n",
    "\n",
    "# We do this to ignore several specific Pandas warnings\n",
    "import warnings\n",
    "warnings.filterwarnings(\"ignore\")\n",
    "\n",
    "sns.set(style=\"white\")"
   ]
  },
  {
   "cell_type": "markdown",
   "metadata": {},
   "source": [
    "\n",
    "\n",
    "\n"
   ]
  },
  {
   "cell_type": "markdown",
   "metadata": {},
   "source": [
    "#### Probability Density Pictures:\n",
    "These can be also easily visualized by a \"normalized histogram\" which gives the \n",
    "values with their appropriate probability weightings:\n",
    "\n",
    "    Examples:\n",
    "        Fair Coin: 1/2, 1/2\n",
    "        Unfair Coin: 1/3, 2/3\n",
    "        Fair Die: 1/6, 1/6, 1/6, 1/6, 1/6, 1/6\n",
    "        Unfair Die: 1/20, 2/20, 2/20, 2/20, 2/20, 11/20"
   ]
  },
  {
   "cell_type": "markdown",
   "metadata": {},
   "source": [
    "### Flipping Coin\n",
    "\n",
    "First, we will demonstrate computing a probability from a sequence of events by simulating a coin flip. In the following code cell, we assume a fixed probability of _flipping heads_, and simulate flipping a heads ($H$) or tails ($T$) by using the [`choice`][npc] function in the NumPy module to randomly select one of these two outcomes. We display the simulated flips, accumulate the number of heads, and display the ratio of heads to total flips as a probability derived from the frequency of occurrences."
   ]
  },
  {
   "cell_type": "code",
   "execution_count": 7,
   "metadata": {
    "ExecuteTime": {
     "end_time": "2018-11-25T11:18:22.712013Z",
     "start_time": "2018-11-25T11:18:22.699361Z"
    },
    "collapsed": false
   },
   "outputs": [
    {
     "name": "stdout",
     "output_type": "stream",
     "text": [
      "Flips: T H T H H H H H H T H H T H H H H T T T H T T H T\n",
      "Number of Heads: 15\n",
      "P(H) = 0.6  (Number of Heads/ Total Flips)\n"
     ]
    }
   ],
   "source": [
    "#Simulation probability of flipping heads\n",
    "ph = 0.5\n",
    "\n",
    "#no of coin flips to simulate\n",
    "num_flips = 25\n",
    "\n",
    "#simulate coin flips\n",
    "def flip_coin(N, p=ph):\n",
    "    prob = [p, (1-p)]\n",
    "    return np.random.choice(['H','T'],size=N, p=prob)\n",
    "    \n",
    "#Accumulate flips\n",
    "flips = flip_coin(num_flips, ph)\n",
    "\n",
    "#Count Heads\n",
    "num_heads = np.sum(flips == 'H')\n",
    "\n",
    "#Display results\n",
    "print(\"Flips:\", \" \".join(flips))\n",
    "print(f\"Number of Heads: {num_heads}\")\n",
    "print(f\"P(H) = {num_heads/num_flips}  (Number of Heads/ Total Flips)\")\n",
    "    "
   ]
  },
  {
   "cell_type": "markdown",
   "metadata": {},
   "source": [
    "### Rolling Dice\n",
    "\n",
    "\n",
    "Second, we can provide a more complex example by simulating the rolling of a six-sided dice. In this case, we must randomly select one of six options ($1$, $2$, $3$, $4$, $5$, $6$), which by default we assume all have equal probabilities ($= 1/ 6$). At the end, we accumulate the number of rolls that result in an _ace_ (or $1$), and display the ratio of this sum to the total number of rolls as a probability derived from the frequency of occurrence."
   ]
  },
  {
   "cell_type": "code",
   "execution_count": 8,
   "metadata": {
    "ExecuteTime": {
     "end_time": "2018-11-25T11:21:48.867400Z",
     "start_time": "2018-11-25T11:21:48.855407Z"
    },
    "collapsed": false
   },
   "outputs": [
    {
     "name": "stdout",
     "output_type": "stream",
     "text": [
      "Rolls: 5 2 5 6 2 4 2 3 3 2 6 1 4 6 3 5 1 1 2 6 1 2 5 4 5\n",
      "Number of Ones: 4\n",
      "P(1) = 0.16 (Number of Ones/Total Rolls)\n"
     ]
    }
   ],
   "source": [
    "# Assume equal probability over all states\n",
    "prob_die = 6 * [(1/6)]\n",
    "\n",
    "# Number of dice rolls\n",
    "num_rolls = 25\n",
    "\n",
    "# Simulate a dice roll\n",
    "def roll_die(N, prob = prob_die):\n",
    "    return np.random.choice(['1', '2', '3', '4', '5', '6'], size=N, p=prob)\n",
    "\n",
    "# Accumulate rolls\n",
    "rolls=roll_die(num_rolls)\n",
    "\n",
    "# Accumulate rolls of an 'Ace'\n",
    "num_ones = np.sum(rolls == '1')\n",
    "\n",
    "#Display results\n",
    "print(\"Rolls:\", \" \".join(rolls))\n",
    "print(f\"Number of Ones: {num_ones}\")\n",
    "print(f'P(1) = {num_ones/num_rolls} (Number of Ones/Total Rolls)')"
   ]
  },
  {
   "cell_type": "markdown",
   "metadata": {},
   "source": [
    "\n",
    "### Bernoulli Trial\n",
    "\n",
    "If we conduct an experiment, such as flipping a coin or rolling a die, we can define a specific outcome as a success. For example, if the coin shows a head or we roll an ace (or a **1**), we might consider those successful outcomes. An experiment of this type is known as a [**Bernoulli trial**][wbt]. If the probability of success is denoted by $p$, we have the probability of success as $P(1) = p$, and conversely the probability of failure is $P(0) = (1 - p)$. If we let $x$ be a random variable that is determined by this probability, then $X$ is known as a Bernoulli random variable. In addition, we can obtain the **odds** of a successful outcome as the ratio $p/(1 - p)$."
   ]
  },
  {
   "cell_type": "markdown",
   "metadata": {},
   "source": [
    "## Binomial Distribution\n",
    "\n",
    "If we extend the experiment to include more than one trial, we have a binomial experiment, which consists of a set number of statistically independent _Bernoulli trials_. Thus, flipping a coin multiple times is a binomial experiment, since each coin flip is independent. In general, a random variable that is determined from $n$ statistically independent Bernoulli trials, where each trial has probability $p$ of success, follows a Binomial distribution $B(n, p)$. In this case, the probability of exactly $r$ successes is given by\n",
    "\n",
    "$$p(r) = {n \\choose r} p^r (1 - p)^{n - r}$$\n",
    "\n",
    "To demonstrate, we can calculate the probability of getting an odd roll of a die. Here the probability of success, $p$ is equal to 0.5, since we have three ways of getting an odd roll and six total options ($p = 3/6 = 1/2$). In addition, we have one trial ($n = 1$), and one success ($r = 1$).\n",
    "\n",
    "$$P(X) = \\frac{1!}{1! 0!}\\left( \\frac{1}{2} \\right)^1 \\left( \\frac{1}{2} \\right)^0 = \\frac{1}{2} $$\n",
    "\n",
    "Or, we can calculate the probability of flipping five heads in ten coin tosses. For this example, the probability of getting heads for a fair coin is just 0.5, $n = 10$, and $r=5$, thus\n",
    "\n",
    "$$P(X) = \\frac{10!}{5! (10 - 5)!}\\left( \\frac{1}{2} \\right)^5 \\left( \\frac{1}{2} \\right)^5 \\approx 0.246 $$\n",
    "\n",
    "This distribution can be applied when\n",
    "- the different trials (i.e., $n$) are statistically independent,\n",
    "- each trial can only end in one of two states, and\n",
    "- the probability of success (and failure) is constant for each trial.\n",
    "\n",
    "As a simple example, in the following code cell, we calculate the probability of flipping different numbers of heads from five _fair_ coins, for which we assume the probability of getting a heads = 0.5.\n",
    "\n",
    "-----\n",
    "\n",
    "<font color='red' size = '5'> Important Information </font>\n",
    "\n",
    "An important issue that arises when performing data analytic tasks is **reproducibility**. The data analyst should obtain consistent results when performing the same analysis, even if the code, programming language, or analysis tool changes. When working with random variables, however, this can be made more difficult since each time a process is executed entirely new data are generated. \n",
    "\n",
    "Computers, however, are entirely deterministic systems. Random data generated by traditional computers are not completely random. These processes often start with a seed, which impacts the random sequence that is generated. By reusing the same seed, one can minimize the impact of a random process within a computer program and enable code reproducibility. This can be done for many random number generators, such as those within NumPy, by explicitly setting a global seed, or, preferentially, always specifying the same [random_state][sst] (or seed) to the specific random generator.\n",
    "\n",
    "For example, if we are using the binomial distribution in the SciPy module, we can specify the seed globally, or we can specify a random state when we sample random variables from the distribution:\n",
    "\n",
    "```python\n",
    "# Set global seed\n",
    "np.random.seed(42)\n",
    "\n",
    "# Set repeatable local random state\n",
    "dist = binom(n, p)\n",
    "data = dist.rvs(10, random_state=42)\n",
    "```"
   ]
  },
  {
   "cell_type": "code",
   "execution_count": 9,
   "metadata": {
    "ExecuteTime": {
     "end_time": "2018-11-25T11:35:04.224263Z",
     "start_time": "2018-11-25T11:35:03.800499Z"
    },
    "collapsed": false
   },
   "outputs": [
    {
     "name": "stdout",
     "output_type": "stream",
     "text": [
      "P(0 Heads) =   0.03\n",
      "P(1 Heads) =   0.16\n",
      "P(2 Heads) =   0.31\n",
      "P(3 Heads) =   0.31\n",
      "P(4 Heads) =   0.16\n",
      "P(5 Heads) =   0.03\n"
     ]
    },
    {
     "data": {
      "image/png": "[encoded data removed]",
      "text/plain": [
       "<Figure size 864x432 with 1 Axes>"
      ]
     },
     "metadata": {},
     "output_type": "display_data"
    }
   ],
   "source": [
    "# Number of coins\n",
    "n = 5\n",
    "\n",
    "# Simulated probability of heads\n",
    "ph = 0.5\n",
    "\n",
    "from scipy.stats import binom\n",
    "\n",
    "x = np.arange(6)\n",
    "\n",
    "# Create frozen distribution\n",
    "rv = binom(n, ph)\n",
    "pmf = rv.pmf(x)\n",
    "\n",
    "for idx, pr in enumerate(pmf):\n",
    "    print(f'P({idx} Heads) = {pr:6.2f}')\n",
    "\n",
    "# Now plot the binomial distribution for different number of heads in 5 coin flips\n",
    "fig, ax = plt.subplots(figsize=(12, 6))\n",
    "ax.plot(x, binom.pmf(x, n, ph), 'o', color=sns.xkcd_rgb[\"pale red\"], ms=10, label='Binomial PMF')\n",
    "\n",
    "#Plot frozen PMF\n",
    "ax.vlines(x, 0, pmf, colors=sns.xkcd_rgb[\"denim blue\"], lw=2, alpha=0.5, label='Frozen PMF')\n",
    "\n",
    "# Decorate plot\n",
    "ax.set_xlabel('Number of Heads', fontsize=16)\n",
    "ax.set_ylabel(r'Probability of $N$ Heads', fontsize=16)\n",
    "ax.set_title('Binomial Distribution: 5 Coins', fontsize=16)\n",
    "ax.legend(fontsize=16)\n",
    "sns.despine(offset = 5, trim=True)"
   ]
  },
  {
   "cell_type": "code",
   "execution_count": null,
   "metadata": {
    "collapsed": true
   },
   "outputs": [],
   "source": []
  }
 ],
 "metadata": {
  "kernelspec": {
   "display_name": "Python 3",
   "language": "python",
   "name": "python3"
  },
  "language_info": {
   "codemirror_mode": {
    "name": "ipython",
    "version": 3
   },
   "file_extension": ".py",
   "mimetype": "text/x-python",
   "name": "python",
   "nbconvert_exporter": "python",
   "pygments_lexer": "ipython3",
   "version": "3.6.6"
  },
  "varInspector": {
   "cols": {
    "lenName": 16,
    "lenType": 16,
    "lenVar": 40
   },
   "kernels_config": {
    "python": {
     "delete_cmd_postfix": "",
     "delete_cmd_prefix": "del ",
     "library": "var_list.py",
     "varRefreshCmd": "print(var_dic_list())"
    },
    "r": {
     "delete_cmd_postfix": ") ",
     "delete_cmd_prefix": "rm(",
     "library": "var_list.r",
     "varRefreshCmd": "cat(var_dic_list()) "
    }
   },
   "types_to_exclude": [
    "module",
    "function",
    "builtin_function_or_method",
    "instance",
    "_Feature"
   ],
   "window_display": false
  }
 },
 "nbformat": 4,
 "nbformat_minor": 2
}
