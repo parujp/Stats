{
 "cells": [
  {
   "cell_type": "markdown",
   "metadata": {},
   "source": [
    " \n",
    "## The concept of Probability\n",
    "\n",
    "In some processes, several outcomes are possible. When the process is repeated a large no of times, each outcome occurs with a characteristic relative frequency or  probability. If a particular outcome happens more often than another outcome, we say it is more probable\n",
    "\n",
    "The concept of Probability arises in 2 contexts:\n",
    "\n",
    "- In actual repeated experiments where you estimate the probability of a particular outcome\n",
    "- In idealized conceptions of a repeated process ( unbiased die) the expected probability or expected relative probabilities are calculated\n",
    "\n",
    "\n",
    "## Probability\n",
    "\n",
    "One standard approach to estimating probability is to define the probability of an event by the _frequency_ of its occurrence. Thus, for example, we expect that the probability a fair coin comes up heads is 0.5. Formally, this is computed as the number of successes divided by the number of attempts. In general, in the absence of outside information, we follow the [principle of indifference][wpi] and choose uniform probabilities for potential events. Thus we expect:\n",
    "\n",
    "Coin: $P(H) = \\frac{1}{2}$  \n",
    "Dice: $P(1) = \\frac{1}{6}$  \n",
    "Card: $P(3) = \\frac{1}{13}$  \n",
    "\n",
    "\n",
    "## Joint Probability\n",
    "\n",
    "- **Joint Probability** (Intersections):\n",
    "    - **Independent** events occur with probability the product of their individual probabilities!\n",
    "    - I.e., $P(A \\text{ and } B) = P(A) \\times P(B)$\n",
    "- **Disjoint events (Unions)**\n",
    "    - The probability of either $A$ or $B$ occurring is $P(A) + P(B) - P(A \\text{ and } B)$\n",
    "    - For disjoint events (i.e. both can't occur) this is just the sum $P(A) + P(B)$\n",
    "    \n",
    "\n",
    "## Dependent Variables and Conditional Probability\n",
    "\n",
    "http://setosa.io/conditional/\n",
    "\n",
    "#### Not all probabilities are independent -- here's an example:\n",
    "\n",
    "I am allergic to dogs. (Sad but true.)  They make me sneeze.\n",
    "Sometimes dogs say hello to me.  What is the probability that I sneeze?\n",
    "\n",
    "Here I know some probabilities about the friendliness of dogs:\n",
    "- $P(\\text{\"Dog greets me\"}) = 1/4$ \n",
    "- $P(\\text{\"Dog doesn't greet me\"}) = 3/4$ \n",
    "\n",
    "Sometimes we know the **conditional probabilities** that depend on whether dogs say hello:\n",
    "- $P(\\text{\"I sneeze\"} |\\, \\text{\"Dog greets me\"}) = 9/10$\n",
    "- $P(\\text{\"I don't sneeze\"} |\\, \\text{\"Dog greets me\"}) = 1/10$\n",
    "- $P(\\text{\"I sneeze\"} |\\, \\text{\"Dog doesn't greet me\"}) = 2/10$\n",
    "- $P(\\text{\"I don't sneeze\"} |\\, \\text{\"Dog doesn't greet me\"}) = 8/10$\n",
    "\n",
    "How can I find the probability of sneezing in general?\n",
    "$$ $$\n",
    "\\begin{align}\n",
    "P(\\text{\"I sneeze\"}) \n",
    "&= P(\\text{\"I sneeze\"} |\\, \\text{\"Dog greets me\"}) \\times P(\\text{\"Dog greets me\"}) \n",
    "\\\\\n",
    "&+ P(\\text{\"I sneeze\"} |\\, \\text{\"Dog doesn't greet me\"}) \\times P(\\text{\"Dog doesn't greet me\"}) \n",
    "\\\\\n",
    "&= \\frac{9}{10} \\times \\frac{1}{4} + \\frac{2}{10} \\times \\frac{3}{4}\n",
    "\\\\\n",
    "&= \\frac{9 + 6}{40} = \\frac{3}{8} = 37.5\\%\n",
    "\\end{align}\n",
    "\n",
    "\n",
    "Note that $P(\\text{\"I sneeze\"})$ depends on the value of $\\text{\"Dog greets me\"}$!\n",
    "  \n",
    "   **The random variables \"I sneeze\" and \"Dog greets me\" are not independent!**\n",
    "  \n",
    "If we thought they were independent, we would conclude that the probabilty \n",
    "  that I sneeze when a dog greets me is $\\frac{1}{4} \\cdot \\frac{3}{8} = \\frac{3}{32} \\approx 9.3\\%$, \n",
    "  but its actually $\\frac{1}{4} \\cdot \\frac{9}{10} = 22.5\\%$!\n"
   ]
  },
  {
   "cell_type": "markdown",
   "metadata": {},
   "source": [
    "\n",
    "\n",
    "### RANDOM EXPERIMENT\n",
    "\n",
    "- A random experiment is simply any situation wherein a process leads to more than one possible outcome. \n",
    "\n",
    "\n",
    "### OUTCOMES, EVENTS AND PROBABILITY\n",
    "\n",
    "- Results obtained from an experiment are called outcomes\n",
    "- Sample Space: Set of all outcomes of an experiment\n",
    "    - can be finite or infinite\n",
    "- Events : subsets of the sample space. Events will be assigned a probability to express how likely it is that an event occurs\n",
    "\n",
    "**Sample Space**\n",
    "\n",
    "Sample Space: Set of all outcomes of an experiment\n",
    "\n",
    "Eg 1:\n",
    "- Coin Toss:\n",
    "    - 2 possible outcomes\n",
    "    - Sample Space = {H,T}\n",
    "Eg 2:\n",
    "- Ask a stranger which month her birthday falls\n",
    "    - 12 possible outcomes\n",
    "    - Sample Space = {Ja,Fe,Ma,Ap,Ma,Ju,Jul,Au,Se,Oc,No,De}\n",
    "    \n",
    "**Events**\n",
    "\n",
    "Subsets of the sample space are called events.\n",
    "\n",
    "We say an event A occurs if the outcome of the experiment is an element of the set A\n",
    "\n",
    "In Eg 2:\n",
    "- Ask a stranger which month her birthday falls\n",
    "    - 12 possible outcomes\n",
    "    - Sample Space = {Ja,Fe,Ma,Ap,Ma,Ju,Jul,Au,Se,Oc,No,De}\n",
    "- Possible events:\n",
    "    - event L: Birthday corresponds to long months\n",
    "        - L = {Jan,Mar,May,Jul,Aug,Oct,Dec}\n",
    "    - event R : Months that have R in the name\n",
    "        - R = {Jan, Feb, Mar, Apr, Sep, Oct, Nov, Dec}\n",
    "        \n",
    "\n"
   ]
  },
  {
   "cell_type": "markdown",
   "metadata": {
    "ExecuteTime": {
     "end_time": "2018-11-22T19:12:17.553138Z",
     "start_time": "2018-11-22T19:12:17.539396Z"
    }
   },
   "source": []
  },
  {
   "cell_type": "code",
   "execution_count": null,
   "metadata": {
    "collapsed": true
   },
   "outputs": [],
   "source": []
  }
 ],
 "metadata": {
  "kernelspec": {
   "display_name": "Python 3",
   "language": "python",
   "name": "python3"
  },
  "language_info": {
   "codemirror_mode": {
    "name": "ipython",
    "version": 3
   },
   "file_extension": ".py",
   "mimetype": "text/x-python",
   "name": "python",
   "nbconvert_exporter": "python",
   "pygments_lexer": "ipython3",
   "version": "3.6.6"
  },
  "varInspector": {
   "cols": {
    "lenName": 16,
    "lenType": 16,
    "lenVar": 40
   },
   "kernels_config": {
    "python": {
     "delete_cmd_postfix": "",
     "delete_cmd_prefix": "del ",
     "library": "var_list.py",
     "varRefreshCmd": "print(var_dic_list())"
    },
    "r": {
     "delete_cmd_postfix": ") ",
     "delete_cmd_prefix": "rm(",
     "library": "var_list.r",
     "varRefreshCmd": "cat(var_dic_list()) "
    }
   },
   "types_to_exclude": [
    "module",
    "function",
    "builtin_function_or_method",
    "instance",
    "_Feature"
   ],
   "window_display": false
  }
 },
 "nbformat": 4,
 "nbformat_minor": 2
}
