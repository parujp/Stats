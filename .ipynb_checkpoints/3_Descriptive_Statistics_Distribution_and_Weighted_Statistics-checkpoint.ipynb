{
 "cells": [
  {
   "cell_type": "markdown",
   "metadata": {},
   "source": [
    "# Descriptive Statistics\n",
    "\n",
    "Descriptive Statistics or Summary Statistics is used to describe a data set using a small number of statistical quantities such as:\n",
    "\n",
    "1. measure of location of centrality\n",
    "2. measure of variability or spread\n",
    "3. measures of distribution\n",
    "4. measures of distribution shape\n",
    "\n",
    "In this notebook,  statistical quantities are used to describe a 1-D dataset"
   ]
  },
  {
   "cell_type": "code",
   "execution_count": 1,
   "metadata": {
    "ExecuteTime": {
     "end_time": "2018-11-09T13:50:32.904261Z",
     "start_time": "2018-11-09T13:50:31.614438Z"
    },
    "collapsed": true
   },
   "outputs": [],
   "source": [
    "#Standard Imports\n",
    "import numpy as np\n",
    "import scipy as sp\n",
    "import pandas as pd\n",
    "import seaborn as sns\n",
    "#Display options\n",
    "pd.options.display.max_rows = 10"
   ]
  },
  {
   "cell_type": "code",
   "execution_count": 2,
   "metadata": {
    "ExecuteTime": {
     "end_time": "2018-11-09T13:50:33.008666Z",
     "start_time": "2018-11-09T13:50:32.973936Z"
    },
    "collapsed": false
   },
   "outputs": [
    {
     "data": {
      "text/html": [
       "<div>\n",
       "<style scoped>\n",
       "    .dataframe tbody tr th:only-of-type {\n",
       "        vertical-align: middle;\n",
       "    }\n",
       "\n",
       "    .dataframe tbody tr th {\n",
       "        vertical-align: top;\n",
       "    }\n",
       "\n",
       "    .dataframe thead th {\n",
       "        text-align: right;\n",
       "    }\n",
       "</style>\n",
       "<table border=\"1\" class=\"dataframe\">\n",
       "  <thead>\n",
       "    <tr style=\"text-align: right;\">\n",
       "      <th></th>\n",
       "      <th>total_bill</th>\n",
       "      <th>tip</th>\n",
       "      <th>sex</th>\n",
       "      <th>smoker</th>\n",
       "      <th>day</th>\n",
       "      <th>time</th>\n",
       "      <th>size</th>\n",
       "    </tr>\n",
       "  </thead>\n",
       "  <tbody>\n",
       "    <tr>\n",
       "      <th>0</th>\n",
       "      <td>16.99</td>\n",
       "      <td>1.01</td>\n",
       "      <td>Female</td>\n",
       "      <td>No</td>\n",
       "      <td>Sun</td>\n",
       "      <td>Dinner</td>\n",
       "      <td>2</td>\n",
       "    </tr>\n",
       "    <tr>\n",
       "      <th>1</th>\n",
       "      <td>10.34</td>\n",
       "      <td>1.66</td>\n",
       "      <td>Male</td>\n",
       "      <td>No</td>\n",
       "      <td>Sun</td>\n",
       "      <td>Dinner</td>\n",
       "      <td>3</td>\n",
       "    </tr>\n",
       "    <tr>\n",
       "      <th>2</th>\n",
       "      <td>21.01</td>\n",
       "      <td>3.50</td>\n",
       "      <td>Male</td>\n",
       "      <td>No</td>\n",
       "      <td>Sun</td>\n",
       "      <td>Dinner</td>\n",
       "      <td>3</td>\n",
       "    </tr>\n",
       "    <tr>\n",
       "      <th>3</th>\n",
       "      <td>23.68</td>\n",
       "      <td>3.31</td>\n",
       "      <td>Male</td>\n",
       "      <td>No</td>\n",
       "      <td>Sun</td>\n",
       "      <td>Dinner</td>\n",
       "      <td>2</td>\n",
       "    </tr>\n",
       "    <tr>\n",
       "      <th>4</th>\n",
       "      <td>24.59</td>\n",
       "      <td>3.61</td>\n",
       "      <td>Female</td>\n",
       "      <td>No</td>\n",
       "      <td>Sun</td>\n",
       "      <td>Dinner</td>\n",
       "      <td>4</td>\n",
       "    </tr>\n",
       "  </tbody>\n",
       "</table>\n",
       "</div>"
      ],
      "text/plain": [
       "   total_bill   tip     sex smoker  day    time  size\n",
       "0       16.99  1.01  Female     No  Sun  Dinner     2\n",
       "1       10.34  1.66    Male     No  Sun  Dinner     3\n",
       "2       21.01  3.50    Male     No  Sun  Dinner     3\n",
       "3       23.68  3.31    Male     No  Sun  Dinner     2\n",
       "4       24.59  3.61  Female     No  Sun  Dinner     4"
      ]
     },
     "execution_count": 2,
     "metadata": {},
     "output_type": "execute_result"
    }
   ],
   "source": [
    "# Dataset : demo dataset\n",
    "tips = sns.load_dataset(\"tips\") #tips is a Pandas DataFrame \n",
    "tips.head()"
   ]
  },
  {
   "cell_type": "code",
   "execution_count": 3,
   "metadata": {
    "ExecuteTime": {
     "end_time": "2018-11-09T13:50:55.296997Z",
     "start_time": "2018-11-09T13:50:55.288971Z"
    },
    "collapsed": false
   },
   "outputs": [
    {
     "data": {
      "text/plain": [
       "array([16.99, 10.34, 21.01, 23.68, 24.59, 25.29,  8.77, 26.88, 15.04,\n",
       "       14.78])"
      ]
     },
     "execution_count": 3,
     "metadata": {},
     "output_type": "execute_result"
    }
   ],
   "source": [
    "#Convert total_bill column to Numpy Array\n",
    "data = tips.total_bill.values\n",
    "data[:10]"
   ]
  },
  {
   "cell_type": "markdown",
   "metadata": {},
   "source": [
    "## Measures of Distribution\n",
    "\n",
    "While useful, measures of location and dispersion are only two numbers. Thus, other techniques exist for analytically quantifying a distribution of data. Fundamentally, these techniques all rely on sorting the data and finding the value below which a certain percentage of data lie. In this manner, one percentile would correspond to one percent of the data, while the median would correspond to fifty percent of the data. Formally, the following pre-defined measures are commonly used:\n",
    "\n",
    "    1.Percentiles: Divides the data into one percent chunks, the value indicates which percentile is of interest\n",
    "    2.Deciles: Divides the data into ten chunks, each containing 10% of the data\n",
    "    3.Quantiles: Divides the data into five chunks, each containing 20% of the data\n",
    "    4.Quartiles: Divides the data into four chunks, each containing 25% of the data\n",
    "\n",
    "__With NumPy we just use percentile function for all of these and specify the appropriate value for the percentile.__"
   ]
  },
  {
   "cell_type": "code",
   "execution_count": 21,
   "metadata": {
    "ExecuteTime": {
     "end_time": "2018-11-09T14:57:42.490806Z",
     "start_time": "2018-11-09T14:57:42.483907Z"
    },
    "collapsed": false
   },
   "outputs": [
    {
     "name": "stdout",
     "output_type": "stream",
     "text": [
      "Median (via percentile) = 17.7950\n"
     ]
    }
   ],
   "source": [
    "# Demonstrate percentile with the Median\n",
    "\n",
    "print('Median (via percentile) = {:6.4f}'.format(np.percentile(data, 50)))"
   ]
  },
  {
   "cell_type": "code",
   "execution_count": 22,
   "metadata": {
    "ExecuteTime": {
     "end_time": "2018-11-09T15:00:39.246544Z",
     "start_time": "2018-11-09T15:00:39.235313Z"
    },
    "collapsed": false
   },
   "outputs": [
    {
     "name": "stdout",
     "output_type": "stream",
     "text": [
      "First Quartile = 13.3475\n",
      "Second Quartile = 17.7950\n",
      "Third Quartile = 24.1275\n",
      "Fourth Quartile = 50.8100\n"
     ]
    }
   ],
   "source": [
    "# Compute quartiles\n",
    "\n",
    "print(\"First Quartile = {:6.4f}\".format(np.percentile(data,25)))\n",
    "print(\"Second Quartile = {:6.4f}\".format(np.percentile(data, 50)))\n",
    "print(\"Third Quartile = {:6.4f}\".format(np.percentile(data, 75)))\n",
    "print(\"Fourth Quartile = {:6.4f}\".format(np.percentile(data,100)))"
   ]
  },
  {
   "cell_type": "code",
   "execution_count": 25,
   "metadata": {
    "ExecuteTime": {
     "end_time": "2018-11-09T15:03:12.668766Z",
     "start_time": "2018-11-09T15:03:12.660871Z"
    },
    "collapsed": false
   },
   "outputs": [
    {
     "name": "stdout",
     "output_type": "stream",
     "text": [
      "Interquartile Range = 10.7800\n"
     ]
    }
   ],
   "source": [
    "# Interqaurtile Range is used as adistribution measure\n",
    "print(\"Interquartile Range = {:6.4f}\".format(np.percentile(data, 75) - np.percentile(data,25)))"
   ]
  },
  {
   "cell_type": "code",
   "execution_count": 26,
   "metadata": {
    "ExecuteTime": {
     "end_time": "2018-11-09T15:06:24.008714Z",
     "start_time": "2018-11-09T15:06:23.997062Z"
    },
    "collapsed": false
   },
   "outputs": [
    {
     "name": "stdout",
     "output_type": "stream",
     "text": [
      "First Quantile = 12.6360\n",
      "Second Quantile = 16.2220\n",
      "Third Quantile = 19.8180\n",
      "Fourth Quantile = 26.0980\n",
      "Fifth Quantile = 50.8100\n"
     ]
    }
   ],
   "source": [
    "# Compute Quantiles\n",
    "print(\"First Quantile = {:6.4f}\".format(np.percentile(data,20)))\n",
    "print(\"Second Quantile = {:6.4f}\".format(np.percentile(data,40)))\n",
    "print(\"Third Quantile = {:6.4f}\".format(np.percentile(data,60)))\n",
    "print(\"Fourth Quantile = {:6.4f}\".format(np.percentile(data,80)))\n",
    "print(\"Fifth Quantile = {:6.4f}\".format(np.percentile(data, 100)))"
   ]
  },
  {
   "cell_type": "markdown",
   "metadata": {},
   "source": [
    "## Weighted Statistics"
   ]
  },
  {
   "cell_type": "markdown",
   "metadata": {
    "ExecuteTime": {
     "end_time": "2018-11-09T15:18:28.215964Z",
     "start_time": "2018-11-09T15:18:28.083547Z"
    }
   },
   "source": [
    "![weighted stats](images\\ws.png)"
   ]
  },
  {
   "cell_type": "code",
   "execution_count": 28,
   "metadata": {
    "ExecuteTime": {
     "end_time": "2018-11-09T15:28:13.135704Z",
     "start_time": "2018-11-09T15:28:13.106115Z"
    },
    "collapsed": false
   },
   "outputs": [
    {
     "name": "stdout",
     "output_type": "stream",
     "text": [
      "Mean = 19.7859\n",
      "Weighted Mean = 19.5267\n",
      "Standard Deviation = 8.8842\n",
      "Weighted Std Deviation = 8.6896\n"
     ]
    }
   ],
   "source": [
    "import math\n",
    "\n",
    "# Get Mean\n",
    "print(\"Mean = {:6.4f}\".format(np.mean(data)))\n",
    "\n",
    "# Genrate random weights\n",
    "\n",
    "w = np.random.uniform(size=data.shape)\n",
    "\n",
    "# Compute weighted mean\n",
    "\n",
    "wm = np.average(data, weights=w)\n",
    "\n",
    "print(\"Weighted Mean = {:6.4f}\".format(wm))\n",
    "\n",
    "# Get Std Deviation\n",
    "\n",
    "print(\"Standard Deviation = {:6.4f}\".format(np.std(data)))\n",
    "\n",
    "# Compute weighted standard deviation\n",
    "\n",
    "wstd = math.sqrt(np.average((data-wm)**2, weights=w))\n",
    "\n",
    "print(\"Weighted Std Deviation = {:6.4f}\".format(wstd))"
   ]
  },
  {
   "cell_type": "markdown",
   "metadata": {},
   "source": [
    "## Measures of Shape\n",
    "\n",
    "In contrast to measures of the distribution, such as the percentile or quantile, there are several other pre-defined quantities that __provide insight into the shape of a data set, especially in relation to the mean and standard deviation__.\n",
    "\n",
    "- __SKEWNESS__\n",
    "- The skewness measures the lack of symmetry with respect to the mean value. \n",
    "- Values near zero indicate symmetric distributions, while larger values indicate increasing asymmetry\n",
    "\n",
    "- __KURTOSIS__\n",
    "- Kurtosis, measures the spread (or how wide the tails are) of a distribution relative to the Normal distribution\n",
    "- Small values of Kurtosis indicate data that are highly concentrated around the mean value, while large values of the kurtosis indicate data that are considerably more different than the mean value."
   ]
  },
  {
   "cell_type": "code",
   "execution_count": 29,
   "metadata": {
    "ExecuteTime": {
     "end_time": "2018-11-09T15:33:37.923483Z",
     "start_time": "2018-11-09T15:33:37.912965Z"
    },
    "collapsed": false
   },
   "outputs": [
    {
     "name": "stdout",
     "output_type": "stream",
     "text": [
      "Skewness = 1.1262\n",
      "Kurtosis = 1.1692\n"
     ]
    }
   ],
   "source": [
    "# Compute Skew\n",
    "skew = sp.stats.skew(data)\n",
    "print(\"Skewness = {:6.4f}\".format(skew))\n",
    "\n",
    "# Compute Kurtosis\n",
    "kurt = sp.stats.kurtosis(data)\n",
    "print(\"Kurtosis = {:6.4f}\".format(kurt))"
   ]
  },
  {
   "cell_type": "markdown",
   "metadata": {},
   "source": [
    "## Population or Sample\n",
    "\n",
    "To this point, we have focused on describing a data set as if it stood alone. For example, you might have access to the full financial statements of a company or information about every transaction that took place in a given market. In some cases, however, you may only have a subset of this full information. This may arise when the original data is very large and you simply want to explore a subset of the full data, or perhaps you were simply given a subset in order to ascertain any issues of problems\n",
    "\n",
    "Formally, this division can be described as being given either the full population or simply a sample. Traditional statistics, being developed many years ago when data sets were small and all calculations were done with pencil and paper, focused on using samples to make predictions (or estimates) of the full population. In practice, this introduces several new terms and small changes in calculating descriptive statistics. First, the originating data set is often called the parent population. Second, the process of selecting data from the parent population is known as sampling. \n",
    "\n",
    "__When using a sample to describe the parent population, we must account for the fact that we are using limited information to describe something (potentially) much larger__. \n",
    "Thus, when we use a sample to estimate the mean value of the parent population, we have reduced the information content of our sample. This means that when we use this estimated mean value to compute the estimated standard deviation, we actually compute a less precise estimate. This is formalized by a concept known as __degree of freedom, which is given by the number of data points in the sample, N, which is equal to the length of the data set in Python__.\n"
   ]
  },
  {
   "cell_type": "markdown",
   "metadata": {
    "ExecuteTime": {
     "end_time": "2018-11-09T15:38:47.999318Z",
     "start_time": "2018-11-09T15:38:47.870671Z"
    }
   },
   "source": [
    "![population sample](images\\sample.png)"
   ]
  },
  {
   "cell_type": "code",
   "execution_count": 31,
   "metadata": {
    "ExecuteTime": {
     "end_time": "2018-11-09T15:41:06.572849Z",
     "start_time": "2018-11-09T15:41:06.565856Z"
    },
    "collapsed": false
   },
   "outputs": [
    {
     "data": {
      "text/plain": [
       "8.902411954856856"
      ]
     },
     "execution_count": 31,
     "metadata": {},
     "output_type": "execute_result"
    }
   ],
   "source": [
    "# To calculate this by using Python, we can simply pass in delta degrees of freedom parameter to the numpy.std method:\n",
    "np.std(data,ddof=1)"
   ]
  },
  {
   "cell_type": "code",
   "execution_count": 32,
   "metadata": {
    "ExecuteTime": {
     "end_time": "2018-11-09T15:43:14.132584Z",
     "start_time": "2018-11-09T15:43:14.126486Z"
    },
    "collapsed": false
   },
   "outputs": [
    {
     "name": "stdout",
     "output_type": "stream",
     "text": [
      "Population Std Deviation = 8.8842\n",
      "Sample Std Deviation = 8.9024\n"
     ]
    }
   ],
   "source": [
    "# Compare Population and Sample std deviation\n",
    "print(\"Population Std Deviation = {:6.4f}\".format(np.std(data)))\n",
    "print(\"Sample Std Deviation = {:6.4f}\".format(np.std(data,ddof=1)))"
   ]
  },
  {
   "cell_type": "markdown",
   "metadata": {},
   "source": [
    "### Sample Standard Error of the Mean\n",
    "\n",
    "Another statistic that is often of interest is the precision with which we can measure the mean value.\n",
    "Intuitively, as the number of points in our sample increases, the precision should increase (and \n",
    "the standard deviation decrease). This is formulated by the sample standard error, or \n",
    "SE, which measures the standard error in quantifying a statistic. \n",
    "Thus, if we want to know the precision in our measurement of the mean, we can compute the sample standard error of \n",
    "the mean. Formally, this value is computed by dividing the sample standard deviation by the square root of the \n",
    "number of data points in the sample:\n",
    "    \n",
    "![std error](images\\se.png)"
   ]
  },
  {
   "cell_type": "markdown",
   "metadata": {},
   "source": [
    "NOTE: Note that for large data sets, the difference in dividing by  N\n",
    "  or  N−1\n",
    "  is minimal and we thus can often ignore the difference in practice.\n"
   ]
  },
  {
   "cell_type": "code",
   "execution_count": 33,
   "metadata": {
    "ExecuteTime": {
     "end_time": "2018-11-09T15:47:30.425772Z",
     "start_time": "2018-11-09T15:47:30.420338Z"
    },
    "collapsed": false
   },
   "outputs": [
    {
     "name": "stdout",
     "output_type": "stream",
     "text": [
      "Sample Standard Error = 0.5699\n"
     ]
    }
   ],
   "source": [
    "#compute SSE\n",
    "N = data.shape[0]\n",
    "print(\"Sample Standard Error = {:6.4f}\".format(np.std(data,ddof=1)/np.sqrt(N)))"
   ]
  },
  {
   "cell_type": "code",
   "execution_count": null,
   "metadata": {
    "collapsed": true
   },
   "outputs": [],
   "source": []
  }
 ],
 "metadata": {
  "kernelspec": {
   "display_name": "Python 3",
   "language": "python",
   "name": "python3"
  },
  "language_info": {
   "codemirror_mode": {
    "name": "ipython",
    "version": 3
   },
   "file_extension": ".py",
   "mimetype": "text/x-python",
   "name": "python",
   "nbconvert_exporter": "python",
   "pygments_lexer": "ipython3",
   "version": "3.6.6"
  },
  "varInspector": {
   "cols": {
    "lenName": 16,
    "lenType": 16,
    "lenVar": 40
   },
   "kernels_config": {
    "python": {
     "delete_cmd_postfix": "",
     "delete_cmd_prefix": "del ",
     "library": "var_list.py",
     "varRefreshCmd": "print(var_dic_list())"
    },
    "r": {
     "delete_cmd_postfix": ") ",
     "delete_cmd_prefix": "rm(",
     "library": "var_list.r",
     "varRefreshCmd": "cat(var_dic_list()) "
    }
   },
   "types_to_exclude": [
    "module",
    "function",
    "builtin_function_or_method",
    "instance",
    "_Feature"
   ],
   "window_display": false
  }
 },
 "nbformat": 4,
 "nbformat_minor": 2
}
