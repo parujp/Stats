{
 "cells": [
  {
   "cell_type": "markdown",
   "metadata": {},
   "source": [
    "\n",
    "\n",
    "### RANDOM EXPERIMENT\n",
    "\n",
    "- A random experiment is simply any situation wherein a process leads to more than one possible outcome. \n",
    "\n",
    "\n",
    "### OUTCOMES, EVENTS AND PROBABILITY\n",
    "\n",
    "- Results obtained from an experiment are called outcomes\n",
    "- Sample Space: Set of all outcomes of an experiment\n",
    "    - can be finite or infinite\n",
    "- Events : subsets of the sample space. Events will be assigned a probability to express how likely it is that an event occurs\n",
    "\n",
    "**Sample Space**\n",
    "\n",
    "Sample Space: Set of all outcomes of an experiment\n",
    "\n",
    "Eg 1:\n",
    "- Coin Toss:\n",
    "    - 2 possible outcomes\n",
    "    - Sample Space = {H,T}\n",
    "Eg 2:\n",
    "- Ask a stranger which month her birthday falls\n",
    "    - 12 possible outcomes\n",
    "    - Sample Space = {Ja,Fe,Ma,Ap,Ma,Ju,Jul,Au,Se,Oc,No,De}\n",
    "    \n",
    "**Events**\n",
    "\n",
    "Subsets of the sample space are called events.\n",
    "\n",
    "We say an event A occurs if the outcome of the experiment is an element of the set A\n",
    "\n",
    "In Eg 2:\n",
    "- Ask a stranger which month her birthday falls\n",
    "    - 12 possible outcomes\n",
    "    - Sample Space = {Ja,Fe,Ma,Ap,Ma,Ju,Jul,Au,Se,Oc,No,De}\n",
    "- Possible events:\n",
    "    - event L: Birthday corresponds to long months\n",
    "        - L = {Jan,Mar,May,Jul,Aug,Oct,Dec}\n",
    "    - event R : Months that have R in the name\n",
    "        - R = {Jan, Feb, Mar, Apr, Sep, Oct, Nov, Dec}\n",
    "        \n",
    "\n"
   ]
  },
  {
   "cell_type": "markdown",
   "metadata": {
    "ExecuteTime": {
     "end_time": "2018-11-22T19:06:41.688539Z",
     "start_time": "2018-11-22T19:06:41.539945Z"
    }
   },
   "source": [
    "### RANDOM VARIABLES\n",
    "\n",
    "Formally, a random variable is a function that transforms a sample space by assigning a real number to each outcome in the probability space. There are 2 distinct types of random variables:\n",
    "- Discrete Random Variables\n",
    "- Continuous Random Variables\n"
   ]
  },
  {
   "cell_type": "markdown",
   "metadata": {},
   "source": [
    "#### DISCRETE RANDOM VARIABLES\n",
    "\n",
    "The “discrete” part means that there’s a set number of outcomes. For example, you can only roll a 1,2,3,4,5, or 6 on a die.\n",
    "\n",
    "![DRV](images\\drv.png)\n",
    "\n",
    "##### PROBABILITY DISTRIBUTION OF A DISCRETE RANDOM VARIABLE\n",
    "\n",
    "Once a discrete random variable X is introduced, the sample space Ω is no longer important. It suffices to list the possible values of X and their corre- sponding probabilities. This information is contained in the probability mass function of X.\n",
    "\n",
    "###### 1. Probability Mass Function (PMF)  OR (Frequency Function)\n",
    "\n",
    "- A PMF gives the probabilities for disrete random variables\n",
    "- A PMF can be an equation, a table, or a graph.\n",
    "- A PMF equation looks like this: P(X=x)\n",
    "    - Means: “the probability that X takes on some value x”\n",
    "    - Eg: P(X=9) = 0.087\n",
    "- How you come up with these equations depends mostly on what type of event you have.(For example, it could be aBinomial Distribution or a Poisson Distribution)\n",
    "\n",
    "![PMF](images\\pmf.png)\n",
    "\n",
    "Properties of PMF\n",
    "\n",
    "![PMF](images\\pmfprop.png)\n",
    "\n",
    "###### 2. Cumulative Distribution Function (CDF) Distribution Function F of a Random Variable (Discrete and Continuous)\n",
    "\n",
    "- The cumulative distribution function gives the cumulative value from negative infinity up to a random variable X and is defined by the following notation:\n",
    "__F(x) = P(X≤x)__\n",
    "- You can use the CDF to figure out probabilities above a certain value, below a certain value, or between two values. \n",
    "- For example, if you had a CDF that showed weights of cats, you can use it to figure out:\n",
    "    - The probability of a cat weighing more than 11 pounds.\n",
    "    - The probability of a cat weighing less than 11 pounds.\n",
    "    - The probability of a cat weighing between 11 and 15 pounds.\n",
    "- The normal distribution, the basis of z-scores, is a cumulative distribution function:\n",
    "\n",
    "###### CDF For Discrete Random Variables\n",
    "    \n",
    "![CDF](images\\df.png)\n",
    "\n",
    "###### SUMMARY\n",
    "\n",
    "- Both the __probability mass function__ and the __distribution function__ of a discrete random variable X contain all the probabilistic information of X\n",
    "- the probability distribution of X is determined by either of them. \n",
    "- In fact, the distribution function F of a discrete random variable X can be expressed in terms of the probability mass function p of X and vice versa."
   ]
  },
  {
   "cell_type": "markdown",
   "metadata": {},
   "source": [
    "#### CONTINUOUS RANDOM VARIABLES\n",
    "\n",
    "Many experiments have outcomes that take values on a continuous scale.\n",
    "These experiments have continuous random variables naturally as- sociated with them.\n",
    "- Eg: the load at which a model of a bridge collapses\n",
    "\n",
    "One way to look at continuous random variables is that they arise by a (never-ending) process of refinement from discrete random variables\n",
    "\n",
    "![CRV](images\\crv.png)\n",
    "\n",
    "##### Probability Density Function (PDF)\n",
    "\n",
    "- Used to describe probabilities for continuous random variables\n",
    "- PDF is used to specify the probability of the random variable falling within a particular range of values\n",
    "- \n",
    "P(a<X<=b) = F(b) - F(a)\n",
    "\n",
    "F -> Distribution Function\n",
    "\n",
    "F(a) = P(X<=a)\n",
    "\n",
    "###### Continuous Probability Functions\n",
    "\n",
    "In the study of probability, functions we study are special and different from intermediate algebra. We define the function f(x) so that the area between it and the x-axis is equal to a probability.\n",
    "Since maximum probability is one, the maximum area is also one.\n",
    "\n",
    "For continuous probability distributions:\n",
    "- PROBABILITY = AREA\n"
   ]
  },
  {
   "cell_type": "markdown",
   "metadata": {},
   "source": [
    "#### EXPECTED VALUE \n",
    "\n",
    "Probability does not describe short term events. It gives information about what can happen in the long run.\n",
    "Karl Pearson demonstrated the Law of Large Numbers where theoretical probability and relative frequency get closer and closer together as the number of trials increases.\n"
   ]
  },
  {
   "cell_type": "markdown",
   "metadata": {
    "ExecuteTime": {
     "end_time": "2018-11-22T19:20:07.064571Z",
     "start_time": "2018-11-22T19:20:06.939469Z"
    }
   },
   "source": [
    "<img src=\"images\\pexp.png\" width=\"400\" height=\"400\" />"
   ]
  },
  {
   "cell_type": "markdown",
   "metadata": {
    "ExecuteTime": {
     "end_time": "2018-12-14T22:57:35.159121Z",
     "start_time": "2018-12-14T22:57:35.153612Z"
    }
   },
   "source": [
    "\n",
    "<img src=\"images\\ev1.png\" width=\"400\" height=\"400\" />\n",
    "<img src=\"images\\ev2.png\" width=\"400\" height=\"400\" />\n",
    "<img src=\"images\\ev3.png\" width=\"400\" height=\"400\" />\n",
    "<img src=\"images\\ev4.png\" width=\"400\" height=\"400\" />\n",
    "<img src=\"images\\ev5.png\" width=\"400\" height=\"400\" />\n",
    "<img src=\"images\\ev6.png\" width=\"400\" height=\"400\" />"
   ]
  },
  {
   "cell_type": "markdown",
   "metadata": {},
   "source": [
    "#### STANDARD DEVIATION\n",
    "\n",
    "- Like Data, Probability distributions have std deviations. \n",
    "- To calculate std deviation of a probability distribution, fin each deviation from expected value, square it and then multiply by the probability, then add the products and take square root.\n",
    "- A Probability Distribution Function is a pattern. You try to fit a probability problem into a pattern or a distribution in order to perform the necessary calculations\n",
    "- These distributions are tools to make solving probability problems easier\n",
    "\n"
   ]
  },
  {
   "cell_type": "code",
   "execution_count": null,
   "metadata": {
    "collapsed": true
   },
   "outputs": [],
   "source": []
  }
 ],
 "metadata": {
  "kernelspec": {
   "display_name": "Python 3",
   "language": "python",
   "name": "python3"
  },
  "language_info": {
   "codemirror_mode": {
    "name": "ipython",
    "version": 3
   },
   "file_extension": ".py",
   "mimetype": "text/x-python",
   "name": "python",
   "nbconvert_exporter": "python",
   "pygments_lexer": "ipython3",
   "version": "3.6.6"
  },
  "varInspector": {
   "cols": {
    "lenName": 16,
    "lenType": 16,
    "lenVar": 40
   },
   "kernels_config": {
    "python": {
     "delete_cmd_postfix": "",
     "delete_cmd_prefix": "del ",
     "library": "var_list.py",
     "varRefreshCmd": "print(var_dic_list())"
    },
    "r": {
     "delete_cmd_postfix": ") ",
     "delete_cmd_prefix": "rm(",
     "library": "var_list.r",
     "varRefreshCmd": "cat(var_dic_list()) "
    }
   },
   "types_to_exclude": [
    "module",
    "function",
    "builtin_function_or_method",
    "instance",
    "_Feature"
   ],
   "window_display": false
  }
 },
 "nbformat": 4,
 "nbformat_minor": 2
}
