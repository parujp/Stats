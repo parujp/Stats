{
 "cells": [
  {
   "cell_type": "markdown",
   "metadata": {},
   "source": [
    "# Descriptive Statistics\n",
    "\n",
    "Descriptive Statistics or Summary Statistics is used to describe a data set using a small number of statistical quantities such as:\n",
    "\n",
    "1. measure of location of centrality\n",
    "2. measure of variability or spread\n",
    "3. measures of distribution\n",
    "4. measures of distribution shape\n",
    "\n",
    "In this notebook,  statistical quantities are used to describe a 1-D dataset"
   ]
  },
  {
   "cell_type": "code",
   "execution_count": 1,
   "metadata": {
    "ExecuteTime": {
     "end_time": "2018-11-09T13:50:32.904261Z",
     "start_time": "2018-11-09T13:50:31.614438Z"
    },
    "collapsed": true
   },
   "outputs": [],
   "source": [
    "#Standard Imports\n",
    "import numpy as np\n",
    "import scipy as sp\n",
    "import pandas as pd\n",
    "import seaborn as sns\n",
    "#Display options\n",
    "pd.options.display.max_rows = 10"
   ]
  },
  {
   "cell_type": "code",
   "execution_count": 2,
   "metadata": {
    "ExecuteTime": {
     "end_time": "2018-11-09T13:50:33.008666Z",
     "start_time": "2018-11-09T13:50:32.973936Z"
    },
    "collapsed": false
   },
   "outputs": [
    {
     "data": {
      "text/html": [
       "<div>\n",
       "<style scoped>\n",
       "    .dataframe tbody tr th:only-of-type {\n",
       "        vertical-align: middle;\n",
       "    }\n",
       "\n",
       "    .dataframe tbody tr th {\n",
       "        vertical-align: top;\n",
       "    }\n",
       "\n",
       "    .dataframe thead th {\n",
       "        text-align: right;\n",
       "    }\n",
       "</style>\n",
       "<table border=\"1\" class=\"dataframe\">\n",
       "  <thead>\n",
       "    <tr style=\"text-align: right;\">\n",
       "      <th></th>\n",
       "      <th>total_bill</th>\n",
       "      <th>tip</th>\n",
       "      <th>sex</th>\n",
       "      <th>smoker</th>\n",
       "      <th>day</th>\n",
       "      <th>time</th>\n",
       "      <th>size</th>\n",
       "    </tr>\n",
       "  </thead>\n",
       "  <tbody>\n",
       "    <tr>\n",
       "      <th>0</th>\n",
       "      <td>16.99</td>\n",
       "      <td>1.01</td>\n",
       "      <td>Female</td>\n",
       "      <td>No</td>\n",
       "      <td>Sun</td>\n",
       "      <td>Dinner</td>\n",
       "      <td>2</td>\n",
       "    </tr>\n",
       "    <tr>\n",
       "      <th>1</th>\n",
       "      <td>10.34</td>\n",
       "      <td>1.66</td>\n",
       "      <td>Male</td>\n",
       "      <td>No</td>\n",
       "      <td>Sun</td>\n",
       "      <td>Dinner</td>\n",
       "      <td>3</td>\n",
       "    </tr>\n",
       "    <tr>\n",
       "      <th>2</th>\n",
       "      <td>21.01</td>\n",
       "      <td>3.50</td>\n",
       "      <td>Male</td>\n",
       "      <td>No</td>\n",
       "      <td>Sun</td>\n",
       "      <td>Dinner</td>\n",
       "      <td>3</td>\n",
       "    </tr>\n",
       "    <tr>\n",
       "      <th>3</th>\n",
       "      <td>23.68</td>\n",
       "      <td>3.31</td>\n",
       "      <td>Male</td>\n",
       "      <td>No</td>\n",
       "      <td>Sun</td>\n",
       "      <td>Dinner</td>\n",
       "      <td>2</td>\n",
       "    </tr>\n",
       "    <tr>\n",
       "      <th>4</th>\n",
       "      <td>24.59</td>\n",
       "      <td>3.61</td>\n",
       "      <td>Female</td>\n",
       "      <td>No</td>\n",
       "      <td>Sun</td>\n",
       "      <td>Dinner</td>\n",
       "      <td>4</td>\n",
       "    </tr>\n",
       "  </tbody>\n",
       "</table>\n",
       "</div>"
      ],
      "text/plain": [
       "   total_bill   tip     sex smoker  day    time  size\n",
       "0       16.99  1.01  Female     No  Sun  Dinner     2\n",
       "1       10.34  1.66    Male     No  Sun  Dinner     3\n",
       "2       21.01  3.50    Male     No  Sun  Dinner     3\n",
       "3       23.68  3.31    Male     No  Sun  Dinner     2\n",
       "4       24.59  3.61  Female     No  Sun  Dinner     4"
      ]
     },
     "execution_count": 2,
     "metadata": {},
     "output_type": "execute_result"
    }
   ],
   "source": [
    "# Dataset : demo dataset\n",
    "tips = sns.load_dataset(\"tips\") #tips is a Pandas DataFrame \n",
    "tips.head()"
   ]
  },
  {
   "cell_type": "code",
   "execution_count": 3,
   "metadata": {
    "ExecuteTime": {
     "end_time": "2018-11-09T13:50:55.296997Z",
     "start_time": "2018-11-09T13:50:55.288971Z"
    },
    "collapsed": false
   },
   "outputs": [
    {
     "data": {
      "text/plain": [
       "array([16.99, 10.34, 21.01, 23.68, 24.59, 25.29,  8.77, 26.88, 15.04,\n",
       "       14.78])"
      ]
     },
     "execution_count": 3,
     "metadata": {},
     "output_type": "execute_result"
    }
   ],
   "source": [
    "#Convert total_bill column to Numpy Array\n",
    "data = tips.total_bill.values\n",
    "data[:10]"
   ]
  },
  {
   "cell_type": "markdown",
   "metadata": {},
   "source": [
    "## Measures of Variability (Dispersion)\n",
    "\n",
    "Once we have a measure for the central location of a data set, the next step is to quantify the spread or dispersion of the data around this location. Inherent in this process is the computation of a distance between the data and the central location. Variations in the distance measurement can lead to differences in variability measures, which include the following dispersion measurements:\n",
    "\n",
    "1. Range\n",
    "2. Mean Deviation\n",
    "3. Mean Absolute Deviation\n",
    "4. Variance\n",
    "5. Standard Deviation\n"
   ]
  },
  {
   "cell_type": "markdown",
   "metadata": {
    "ExecuteTime": {
     "end_time": "2018-11-09T13:54:14.118443Z",
     "start_time": "2018-11-09T13:54:14.110145Z"
    },
    "collapsed": true
   },
   "source": [
    "#### RANGE \n",
    "\n",
    "Of these, the simplest is a range measurement, which is simply the difference between two characteristic values. \n",
    "Often these are the minimum and maximum values in a data set. While simple, this provides little insight into the \n",
    "true spread or dispersion of the data, in particular, about the centrality measure(since the mean might lie \n",
    "anywhere between the maximum and minimum values)."
   ]
  },
  {
   "cell_type": "code",
   "execution_count": 5,
   "metadata": {
    "ExecuteTime": {
     "end_time": "2018-11-09T13:58:01.251980Z",
     "start_time": "2018-11-09T13:58:01.240012Z"
    },
    "collapsed": false
   },
   "outputs": [
    {
     "name": "stdout",
     "output_type": "stream",
     "text": [
      "Maximum = 50.8100\n",
      "Minimum = 3.0700\n",
      "Range = 47.7400\n",
      "Peak To Peak (PTP) Range = 47.7400\n"
     ]
    }
   ],
   "source": [
    "# Compute Range Quantities\n",
    "print('Maximum = {:6.4f}'.format(np.max(data)))\n",
    "print('Minimum = {:6.4f}'.format(np.min(data)))\n",
    "print(\"Range = {:6.4f}\".format(np.max(data) - np.min(data)))\n",
    "print('Peak To Peak (PTP) Range = {:6.4f}'.format(np.ptp(data)))"
   ]
  },
  {
   "cell_type": "markdown",
   "metadata": {},
   "source": [
    "#### MEAN DEVIATION\n",
    "\n",
    "Each of the remaining four dispersion measurements are made with respect to a location measure, which is typically the mean value. Thus, the mean deviation is typically measured with respect to the mean value, as shown by the following formula:\n",
    "![Mean Deviation](images\\md.png)\n",
    "\n",
    "While simple, one sums up the deviations from the mean value and divides by the number of points, this measure cancels out high and low measurements, producing a small value measure (which can be zero) for the spread of the data around the mean value. This problem can be overcome by using two different techniques: summing absolute deviations or summing the square of the deviations, which leads to the last three measures.\n"
   ]
  },
  {
   "cell_type": "markdown",
   "metadata": {},
   "source": [
    "#### MEAN ABSOLUTE DEVIATION\n",
    "\n",
    "First, if we sum up the absolute deviations, we generate a sum of intrinsically positive values.\n",
    "- __This MEAN ABSOLUTE VALUE is also known as l1-norm or MANHATTAN NORM.__\n",
    "\n",
    "This finds use in many applications including machine learning.\n",
    "![Mean Absolute Deviation](images\\mad.png)"
   ]
  },
  {
   "cell_type": "code",
   "execution_count": 10,
   "metadata": {
    "ExecuteTime": {
     "end_time": "2018-11-09T14:23:17.702692Z",
     "start_time": "2018-11-09T14:23:17.692740Z"
    },
    "collapsed": false
   },
   "outputs": [
    {
     "name": "stdout",
     "output_type": "stream",
     "text": [
      "Mean Deviation from Mean = -0.0000\n",
      "Mean Absolute Deviation from Mean = 6.8694\n"
     ]
    }
   ],
   "source": [
    "# Compute Deviations\n",
    "\n",
    "tmp = data - np.mean(data)\n",
    "n = data.shape[0]\n",
    "\n",
    "print('Mean Deviation from Mean = {:6.4f}'.format(np.sum(tmp/n)))\n",
    "print('Mean Absolute Deviation from Mean = {:6.4f}'.format(np.sum(np.absolute(tmp)/n)))"
   ]
  },
  {
   "cell_type": "markdown",
   "metadata": {},
   "source": [
    "#### VARIANCE\n",
    "\n",
    "Second, if we sum up squares of deviations from the mean, we again end up with a sum of intrinsically positive numbers.\n",
    "- __This is known as the l2-norm or the EUCLIDEAN NORM__\n",
    "\n",
    "This finds use in Pythagorean formula and Machine Learning\n",
    "\n",
    "![Variance](images\\var.png)"
   ]
  },
  {
   "cell_type": "code",
   "execution_count": 11,
   "metadata": {
    "ExecuteTime": {
     "end_time": "2018-11-09T14:29:18.859072Z",
     "start_time": "2018-11-09T14:29:18.854357Z"
    },
    "collapsed": false
   },
   "outputs": [
    {
     "name": "stdout",
     "output_type": "stream",
     "text": [
      "Variance = 78.9281\n"
     ]
    }
   ],
   "source": [
    "# Compute Variance\n",
    "print(\"Variance = {:6.4f}\".format(np.var(data)))"
   ]
  },
  {
   "cell_type": "markdown",
   "metadata": {},
   "source": [
    "#### STANDARD DEVIATION\n",
    "\n",
    "One concern with the variance, however, is that the units of variance are the square of the original units (for example, length versus length * length). To enable the measure of the variability around the mean to be compared to the mean, we generally will use the standard deviation, which is simply the square root of the variance:\n",
    "\n",
    "![Standard Deviation](images\\sd.png)"
   ]
  },
  {
   "cell_type": "code",
   "execution_count": 12,
   "metadata": {
    "ExecuteTime": {
     "end_time": "2018-11-09T14:31:42.290548Z",
     "start_time": "2018-11-09T14:31:42.282422Z"
    },
    "collapsed": false
   },
   "outputs": [
    {
     "name": "stdout",
     "output_type": "stream",
     "text": [
      "Standard Deviation = 8.8842\n"
     ]
    }
   ],
   "source": [
    "# Compute Standard Deviation\n",
    "print(\"Standard Deviation = {:6.4f}\".format(np.std(data)))"
   ]
  },
  {
   "cell_type": "markdown",
   "metadata": {},
   "source": [
    "#### COEFFICIENT OF VARIATION\n",
    "\n",
    "The value of a dispersion measure can be confusing. On its own, a large or small dispersion is less informative than a dispersion measure combined with a location measure. For example, a dispersion measure of 10 means something different if the mean is 1 versus 100. \n",
    "As a result, \n",
    "- __the coefficient of variation is sometimes used to encode the relative size of a dispersion to the mean__:\n",
    "![Coefficient of Variation](images\\cov.png)"
   ]
  },
  {
   "cell_type": "code",
   "execution_count": 13,
   "metadata": {
    "ExecuteTime": {
     "end_time": "2018-11-09T14:35:25.335207Z",
     "start_time": "2018-11-09T14:35:25.327383Z"
    },
    "collapsed": false
   },
   "outputs": [
    {
     "name": "stdout",
     "output_type": "stream",
     "text": [
      "Coefficient of Variation = 0.4490\n"
     ]
    }
   ],
   "source": [
    "# Compute Coeffiecient of Variation\n",
    "print('Coefficient of Variation = {:6.4f}'.format(np.std(data)/np.mean(data)))"
   ]
  },
  {
   "cell_type": "raw",
   "metadata": {},
   "source": [
    "#################################################"
   ]
  },
  {
   "cell_type": "markdown",
   "metadata": {},
   "source": [
    "Q. compute the mean absolute deviation and standard deviation for the total_bill column, separately for those rows corresponding to lunch and dinner. What do these values suggest about the typical lunch or dinner party? Also, compare the coefficient of variation for the same data. Do these values also make sense?"
   ]
  },
  {
   "cell_type": "code",
   "execution_count": 14,
   "metadata": {
    "ExecuteTime": {
     "end_time": "2018-11-09T14:37:43.029951Z",
     "start_time": "2018-11-09T14:37:43.020165Z"
    },
    "collapsed": true
   },
   "outputs": [],
   "source": [
    "lunch = tips[tips['time'] == 'Lunch']\n",
    "dinner = tips[tips['time'] == 'Dinner']"
   ]
  },
  {
   "cell_type": "code",
   "execution_count": 15,
   "metadata": {
    "ExecuteTime": {
     "end_time": "2018-11-09T14:38:32.350673Z",
     "start_time": "2018-11-09T14:38:32.346157Z"
    },
    "collapsed": true
   },
   "outputs": [],
   "source": [
    "lunch_data = lunch.total_bill.values\n",
    "dinner_data = dinner.total_bill.values"
   ]
  },
  {
   "cell_type": "code",
   "execution_count": 16,
   "metadata": {
    "ExecuteTime": {
     "end_time": "2018-11-09T14:41:57.341277Z",
     "start_time": "2018-11-09T14:41:57.336455Z"
    },
    "collapsed": true
   },
   "outputs": [],
   "source": [
    "temp_lunch = lunch_data - np.mean(lunch_data)\n",
    "n_lunch = lunch_data.shape[0]\n",
    "\n",
    "temp_dinner = dinner_data - np.mean(dinner_data)\n",
    "n_dinner = dinner_data.shape[0]"
   ]
  },
  {
   "cell_type": "code",
   "execution_count": 19,
   "metadata": {
    "ExecuteTime": {
     "end_time": "2018-11-09T14:45:27.253833Z",
     "start_time": "2018-11-09T14:45:27.246505Z"
    },
    "collapsed": false
   },
   "outputs": [
    {
     "name": "stdout",
     "output_type": "stream",
     "text": [
      "Lunch\n",
      "Mean Absolute Deviation = 5.6674\n",
      "Standard Deviation = 7.6570\n",
      "Coefficient of Variation = 0.4460\n"
     ]
    }
   ],
   "source": [
    "print(\"Lunch\")\n",
    "print(\"Mean Absolute Deviation = {:6.4f}\".format(np.sum(np.absolute(temp_lunch/n_lunch))))\n",
    "print(\"Standard Deviation = {:6.4f}\".format(np.std(lunch_data)))\n",
    "print(\"Coefficient of Variation = {:6.4f}\".format(np.std(lunch_data)/np.mean(lunch_data)))"
   ]
  },
  {
   "cell_type": "code",
   "execution_count": 20,
   "metadata": {
    "ExecuteTime": {
     "end_time": "2018-11-09T14:49:43.064510Z",
     "start_time": "2018-11-09T14:49:43.055228Z"
    },
    "collapsed": false
   },
   "outputs": [
    {
     "name": "stdout",
     "output_type": "stream",
     "text": [
      "Dinner\n",
      "Mean Absolute Deviation = 7.0580\n",
      "Standard Deviation = 9.1160\n",
      "Coefficient of Variation = 0.4383\n"
     ]
    }
   ],
   "source": [
    "print(\"Dinner\")\n",
    "print(\"Mean Absolute Deviation = {:6.4f}\".format(np.sum(np.absolute(temp_dinner/n_dinner))))\n",
    "print(\"Standard Deviation = {:6.4f}\".format(np.std(dinner_data)))\n",
    "print(\"Coefficient of Variation = {:6.4f}\".format(np.std(dinner_data)/np.mean(dinner_data)))"
   ]
  },
  {
   "cell_type": "code",
   "execution_count": null,
   "metadata": {
    "collapsed": true
   },
   "outputs": [],
   "source": []
  }
 ],
 "metadata": {
  "kernelspec": {
   "display_name": "Python 3",
   "language": "python",
   "name": "python3"
  },
  "language_info": {
   "codemirror_mode": {
    "name": "ipython",
    "version": 3
   },
   "file_extension": ".py",
   "mimetype": "text/x-python",
   "name": "python",
   "nbconvert_exporter": "python",
   "pygments_lexer": "ipython3",
   "version": "3.6.6"
  },
  "varInspector": {
   "cols": {
    "lenName": 16,
    "lenType": 16,
    "lenVar": 40
   },
   "kernels_config": {
    "python": {
     "delete_cmd_postfix": "",
     "delete_cmd_prefix": "del ",
     "library": "var_list.py",
     "varRefreshCmd": "print(var_dic_list())"
    },
    "r": {
     "delete_cmd_postfix": ") ",
     "delete_cmd_prefix": "rm(",
     "library": "var_list.r",
     "varRefreshCmd": "cat(var_dic_list()) "
    }
   },
   "types_to_exclude": [
    "module",
    "function",
    "builtin_function_or_method",
    "instance",
    "_Feature"
   ],
   "window_display": false
  }
 },
 "nbformat": 4,
 "nbformat_minor": 2
}
