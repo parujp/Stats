{
 "cells": [
  {
   "cell_type": "markdown",
   "metadata": {},
   "source": [
    "\n",
    "#### ARITHMETIC MEAN\n",
    "\n",
    "The arithmetic mean is appropriately named: we find it by adding all of the numbers in the dataset, then dividing by however many numbers are in the dataset.\n",
    "What we are essentially saying here is: if every number in our dataset was the same number, what number would it have to be in order to have the same sum as our actual dataset?\n",
    "The arithmetic mean works well to produce an “average” number of a dataset when there is an additive relationship between the numbers. Such a relationship is often called “linear”, because when graphed in ascending or descending order the numbers tend fall on or around a straight line.\n",
    "Eg: A simple idealized example would be a dataset where each number is produced by adding 3 to the previous number (AM in Red): \n",
    "SERIES: 1,4,7,10,13,16,19...\n",
    "AM = 1+4+7+10+13+16+19 / 7\n",
    "![Arithmetic Mean](images/am.png)\n"
   ]
  },
  {
   "cell_type": "markdown",
   "metadata": {},
   "source": [
    "#### GEOMETRIC MEAN\n",
    "\n",
    "When datasets have a multiplicative or exponential relationship (geometric series) to find the geometric mean we multiply rather than add all the numbers. Then to rescale the product back down to the range of the dataset, we have to take the root, rather than simply dividing. This is generally known as the nth root, where n is the size of the dataset.\n",
    "Notice, what we are saying here is: if every number in our dataset was the same number, what number would it have to be in order to have the same multiplicative product as our actual dataset?\n",
    "SERIES: 1,3,9,27,81,243,729...\n",
    "GM = (1*3*9*27*81*243*729) ^ (1/7) = 7th root of 10,460,353,203\n",
    "![Geometric Mean](images/gm.png)\n",
    "\n",
    "Note:  the geometric mean will not always equal the median, only in cases where there is an exact consistent multiplicative relationship between all numbers. Real world datasets rarely contain such exact relationships, but for those that approximate this sort of multiplicative relationship, the geometric mean will give a closer ‘middle number’ than the arithmetic mean.\n",
    "\n",
    "Real World examples of GM:\n",
    "\n",
    "1. Compound Interest\n",
    "\n",
    "Q: We have $100,000 that accrues a varying rate of interest each year for 5 years:\n",
    "annual interest rates: 1%, 9%, 6%, 2%, 15%\n",
    "\n",
    "- GM = (1.01 x 1.09 x 1.06 x 1.02 x 1.15) ^ 1/5 = 1.064805657\n",
    "- Total Interest Earned = 100000 * ((1.0648)^5 - 1) \n",
    "- Total Interest Earned = $36,883.70\n",
    "\n",
    "2. Different Scales or units\n",
    "   \n",
    "A fancy feature of the geometric mean is that you can actually average across numbers on completely different scales.\n",
    "\n",
    "Q. we want to compare online ratings for two coffeeshops using two different sources. The problem is that source 1 uses a 5-star scale & source 2 uses a 100-point scale:\n",
    "\n",
    "Coffeeshop A\n",
    "- source 1 rating: 4.5\n",
    "- source 2 rating: 68\n",
    "\n",
    "Coffeeshop B\n",
    "- source 1 rating: 3\n",
    "- source 2 rating: 75\n",
    "\n",
    "- Using AM:\n",
    "arithmetic mean expects an additive relationship between numbers & doesn’t account for scales & proportions. Hence the need to bring numbers onto the same scale before applying the arithmetic mean.\n",
    "we have to normalize our values onto the same scale before averaging them with the arithmetic mean, to get an accurate result.\n",
    "\n",
    "Coffeeshop A \n",
    "- 4.5 * 20 = 90 \n",
    "- (90 + 68) ÷ 2 = 79\n",
    "\n",
    "Coffeeshop B\n",
    "- 3 * 20 = 60\n",
    "- (60 + 75) ÷ 2 = 67.5\n",
    "\n",
    "- Using GM\n",
    "The geometric mean, on the other hand, can handle varying proportions with ease, due to it’s multiplicative nature. This is a tremendously useful property, but notice what we lose: We no longer have any interpretable scale at all. The geometric mean is effectively unitless in such situations.\n",
    "The geometric mean, however, allows us to reach the same conclusion without having to fuss over the scale or units of measure:\n",
    "\n",
    "- Coffeeshop A = square root of (4.5 * 68) = 17.5\n",
    "- Coffeeshop B = square root of (3 * 75) = 15\n",
    "\n",
    "the geometric means above are not 17.5 'out of' 100 points nor 15 'out of' 5 stars. They are just unitless numbers, in relative proportion to each other. (Technically, their scale is the geometric mean of the original scales, 5 & 100, which is 22.361). This can be a problem if we actually want to interpret the results relative to some scale that is meaningful to us, such as the original 5 or 100-point systems. But if we just want to know the relationship between ratings of the two coffeeshops, we’re good to go.\n",
    "\n",
    "- GM well-suited for describing multiplicative relationships, such as rates & ratios, even if those ratios are on different scales (i.e. do not have the same denominator). (For this reason, it is often used to compute financial & other indexes / indices. )\n",
    "\n",
    "- There are downsides: meaningful scales & units can be lost when applying the geometric mean, and its insensitivity to outliers can obscure large values that may be consequential. Further, it can produce results at odds with the arithmetic mean on values transformed to a single scale.\n"
   ]
  },
  {
   "cell_type": "markdown",
   "metadata": {},
   "source": [
    "#### HARMONIC MEAN\n",
    "\n",
    "Whereas the arithmetic mean requires addition & the geometric mean employs multiplication, the harmonic mean utilizes reciprocals.\n",
    "So then, the harmonic mean can be described in words as: the reciprocal of the arithmetic mean of the reciprocals of the dataset\n",
    "    \n",
    "Thats a lot of reciprocal flips there, but it’s actually just a few simple steps:\n",
    "1. Take the reciprocal of all numbers in the dataset\n",
    "2. Find the arithmetic mean of those reciprocals\n",
    "3. Take the reciprocal of that number\n",
    "\n",
    "![Harmonic Mean from wikipedia](images/hm_wiki.png)\n",
    "\n",
    "Notice, what we are saying here is: if the reciprocal of every number in our dataset was the same number, what number would it have to be in order to have the same reciprocal sum as our actual dataset?\n",
    "\n",
    "(Note: due to the fact that 0 has no reciprocal (nothing can be multiplied by 0 to = 1), the harmonic mean also cannot handle datasets containing 0’s, similar to the geometric mean.)\n",
    "\n",
    "- Real world applications of HM\n",
    "\n",
    "-  the harmonic mean helps us find multiplicative / divisory relationships between fractions without worrying over common denominators.\n",
    "- the harmonic mean naturally accommodates another layer of multiplication / division over the geometric mean. Thus it is helpful when dealing with datasets of rates or ratios (i.e. fractions) over different lengths or periods.\n",
    "\n",
    "Eg:\n",
    "Consider a trip to the grocery store & back:\n",
    "- On the way there you drove 30 mph the entire way\n",
    "- On the way back traffic was crawling, & you drove 10 mph the entire way\n",
    "- You took the same route, & covered the same amount of ground (5 miles) each way.\n",
    "What was your average speed across this entire trip’s duration?\n",
    "\n",
    "Harmonic mean of 30 and 10 = ...\n",
    "Arithmetic mean of reciprocals = 1/30 + 1/10 = 4/30 ÷ 2 = 4/60 = 1/15\n",
    "Reciprocal of arithmetic mean = 1 ÷ 1/15 = 15/1 = 15\n",
    "\n",
    "Our true average rate of travel, automagically adjusted for time spent traveling in each direction = 15 mph!\n",
    "\n",
    "Note:\n",
    "\n",
    "- This only works because the total distance travelled was the same each way. If it was different, we’d have to use a weighted harmonic mean, or another weighted arithmetic mean ( For the arithmetic mean we’d again weight by time spent traveling at each speed, while for the harmonic mean we’d weight by distance travelled (because it already accounts for the proportions of time implicit in the rates, by taking their reciprocals).\n",
    "- Much of the trickiness & spookiness of Pythagorean Means comes down to the nature of ratios & which side of the ratio we’re more interested in. For instance, the arithmetic mean is always expressed in terms of the denominator. In the case of rate of travel, the ratio is miles-per-hour, so the arithmetic mean gives us a result in terms of its (somewhat hidden) denominator, hours: (30m / 1hr)+(10m / 1hr) ÷ 2 = 20m/1hr = 20 mph. This would be accurate if we spent an equal amount of time traveling in each direction, which we know is false. The harmonic mean instead flips these ratios by taking their reciprocals, putting our actual numbers of interest in the denominator, then takes the arithmetic mean, flips it again, & gives us the answer we’re looking for in terms of average speed, proportionate to the time spent at that speed.\n",
    "- The reason the geometric mean worked for our compound interest example above is that the rates were accruing over equivalent periods: one year each. If the periods varied, i.e. different lengths of time spent accruing interest at each rate, we’d have to again use weights of some sort.\n",
    "- While the geometric mean handles multiplicative relationships such as rates applied to a principal investment & ratios on different scoring scales, the harmonic mean takes this one step further, easily accommodating another layer of multiplicative / divisory relationships such as varying periods or lengths, via the magic of reciprocals.\n",
    "- Due to their respective equations: the harmonic mean is always smaller than the geometric mean, which is always smaller than the arithmetic mean.\n",
    "- harmonic mean ≤ geometric mean ≤ arithmetic mean"
   ]
  },
  {
   "cell_type": "markdown",
   "metadata": {},
   "source": [
    "Summary\n",
    "\n",
    "![am-gm-hm](images/additive.png)\n",
    "\n",
    "![am-gm-hm](images/multiplicative.png)\n",
    "\n",
    "\n"
   ]
  },
  {
   "cell_type": "markdown",
   "metadata": {},
   "source": [
    "#### There are some hard rules, some heuristics & a lot of room for judgement:\n",
    "\n",
    "- To average ratios on different scales: use the geometric mean (or arithmetic mean over normalized scores)\n",
    "- To average compound rate changes over consistent periods: use the geometric mean\n",
    "- To average rates over different periods or lengths: use the harmonic mean (or weighted arithmetic mean)\n",
    "- If your data evinces a multiplicative structure and /or has large outliers: the geometric or harmonic mean might be more appropriate (as might the median)\n",
    "- Pitfalls:\n",
    " 1. loss of meaningful scale or units when using the geometric mean\n",
    " 2. datasets with 0’s cannot be used with the geometric or harmonic means, & datasets with negative numbers also rule out the geometric mean\n",
    "- It can often be more practical & interpretable to\n",
    " 1. just use the median in presence of large outliers\n",
    " 2. remove or cap outliers\n",
    " 3. use a weighted arithmetic mean or statistical transformations rather than esoteric pythagorean means\n",
    "- for a,b>0:\n",
    " 1. AM = (a+b)/2\n",
    " 2. GM = (ab)^1/2\n",
    " 3. HM = 2ab/(a+b)\n"
   ]
  },
  {
   "cell_type": "markdown",
   "metadata": {
    "collapsed": true
   },
   "source": [
    "Source: https://towardsdatascience.com/on-average-youre-using-the-wrong-average-geometric-harmonic-means-in-data-analysis-2a703e21ea0"
   ]
  }
 ],
 "metadata": {
  "kernelspec": {
   "display_name": "Python 3",
   "language": "python",
   "name": "python3"
  },
  "language_info": {
   "codemirror_mode": {
    "name": "ipython",
    "version": 3
   },
   "file_extension": ".py",
   "mimetype": "text/x-python",
   "name": "python",
   "nbconvert_exporter": "python",
   "pygments_lexer": "ipython3",
   "version": "3.6.6"
  },
  "varInspector": {
   "cols": {
    "lenName": 16,
    "lenType": 16,
    "lenVar": 40
   },
   "kernels_config": {
    "python": {
     "delete_cmd_postfix": "",
     "delete_cmd_prefix": "del ",
     "library": "var_list.py",
     "varRefreshCmd": "print(var_dic_list())"
    },
    "r": {
     "delete_cmd_postfix": ") ",
     "delete_cmd_prefix": "rm(",
     "library": "var_list.r",
     "varRefreshCmd": "cat(var_dic_list()) "
    }
   },
   "types_to_exclude": [
    "module",
    "function",
    "builtin_function_or_method",
    "instance",
    "_Feature"
   ],
   "window_display": false
  }
 },
 "nbformat": 4,
 "nbformat_minor": 2
}
