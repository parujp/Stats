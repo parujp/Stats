{
 "cells": [
  {
   "cell_type": "markdown",
   "metadata": {
    "ExecuteTime": {
     "end_time": "2018-11-22T11:44:25.337689Z",
     "start_time": "2018-11-22T11:44:25.332086Z"
    }
   },
   "source": [
    "## UNDERSTANDING PROBABILITY\n",
    "\n",
    "The best resource: https://seeing-theory.brown.edu/basic-probability/index.html"
   ]
  },
  {
   "cell_type": "markdown",
   "metadata": {},
   "source": [
    "- Probability theory is the mathematical framework that allows us to analyze chance events in a logically sound manner.\n",
    "- Probability is a numerical measure of the frequency of occurrence of an event.\n",
    "- The probability of an event is a number indicating how likely that event will occur.\n",
    "- This number is always between 0 and 1, where __0 indicates impossibility__ and __1 indicates certainty__.\n"
   ]
  },
  {
   "cell_type": "markdown",
   "metadata": {
    "ExecuteTime": {
     "end_time": "2018-11-22T11:47:34.547937Z",
     "start_time": "2018-11-22T11:47:34.540404Z"
    }
   },
   "source": [
    "## Combinatorial Analysis\n",
    "\n",
    "A basic problem in computing probabilities is determining the likelihood of a particular event. \n",
    "\n",
    "- In some cases, this can be done simply by counting possible states, such as with flipping a coin. \n",
    "- In others, however, a more formal approach can help derive insights more quickly. This approach is known as combinatorial analysis, where one determines the number of different states that are possible from the initial conditions. \n",
    "For example, given a single coin, there are only two possible states when flipping the coin: **heads** (H) or **tails** (T). With more coins, the space of possible events grows quickly, and if multiple coins are used, determining the possible end states becomes a much more complex problem. \n",
    "\n",
    "In Combinatorial Analysis, there are two fundamental concepts that can be applied: __permutations and combinations__. The difference between these two concepts is that with permutations the order of the values is important, for example, when entering the values for a security code or a telephone number, while for combinations the order is not important, such as selecting lottery numbers or when purchasing items that are used to create a food item. We will walk through each of these cases in more detail."
   ]
  },
  {
   "cell_type": "markdown",
   "metadata": {},
   "source": [
    "### Permutations\n",
    "\n",
    "When we combine things together and the order does matter, we have a [statistical **permutation**][mc]. Given a set of n values, a permutation is the number of different ways that the r values can be selected from the set. As a simple example, consider our set to be the first three numbers: $1, 2, 3$. Before proceeding, there are two approaches to this problem.\n",
    "\n",
    "1. Permutation with replacement, where we select an item from the input set and replace it when we are done.\n",
    "2. Permutation without replacement, where we select an item from the input set, and discard it when we are done.\n",
    "\n",
    "\n",
    "\n",
    "-----\n",
    "[mc]: http://www.mathsisfun.com/combinatorics/combinations-permutations.html"
   ]
  },
  {
   "cell_type": "code",
   "execution_count": 3,
   "metadata": {
    "ExecuteTime": {
     "end_time": "2018-11-22T11:53:43.459289Z",
     "start_time": "2018-11-22T11:53:41.954255Z"
    },
    "collapsed": true
   },
   "outputs": [],
   "source": [
    "# Set up Notebook\n",
    "\n",
    "% matplotlib inline\n",
    "\n",
    "# Standard imports\n",
    "import numpy as np\n",
    "import pandas as pd\n",
    "import matplotlib.pyplot as plt\n",
    "import seaborn as sns\n",
    "\n",
    "# We do this to ignore several specific Pandas warnings\n",
    "import warnings\n",
    "warnings.filterwarnings(\"ignore\")\n",
    "\n",
    "sns.set(style=\"white\")"
   ]
  },
  {
   "cell_type": "markdown",
   "metadata": {},
   "source": [
    "#### PERMUTATION WITH REPLACEMENT\n",
    "\n",
    "For the first case, we select a number, and replace it back in the input set. So, every time we select a number, we have three choices. Thus, if we pick one number, we have three permutations, if we select two we have $3 * 3$, or $9$ permutations, and so on. In general, if we have n objects in our input set, we have n options each time we select another one; thus, if we select two objects, we have $n * n$, or $n^2$. This leads to the general formula for permutation with replacement:\n",
    "\n",
    "$$ ^nP_r = n^r $$\n",
    "\n",
    "This is demonstrated in the following code cell, where we compute the permutations with replacement by using the `product` function to compute the possible permutations in this case."
   ]
  },
  {
   "cell_type": "markdown",
   "metadata": {},
   "source": [
    "##### CODE CELL"
   ]
  },
  {
   "cell_type": "code",
   "execution_count": 4,
   "metadata": {
    "ExecuteTime": {
     "end_time": "2018-11-22T12:07:08.336328Z",
     "start_time": "2018-11-22T12:07:08.320382Z"
    },
    "collapsed": false
   },
   "outputs": [
    {
     "name": "stdout",
     "output_type": "stream",
     "text": [
      "Input data = [0 1 2 3]\n",
      "Possible Permutations = 16\n",
      "0 0 \n",
      "0 1 \n",
      "0 2 \n",
      "0 3 \n",
      "1 0 \n",
      "1 1 \n",
      "1 2 \n",
      "1 3 \n",
      "2 0 \n",
      "2 1 \n",
      "2 2 \n",
      "2 3 \n",
      "3 0 \n",
      "3 1 \n",
      "3 2 \n",
      "3 3 \n"
     ]
    }
   ],
   "source": [
    "# Number of items in input set\n",
    "n = 4\n",
    "# Number of items to be chosen at one time\n",
    "r = 2\n",
    "# Create the data\n",
    "data = np.arange(n)\n",
    "\n",
    "print(\"Input data = {}\".format(data))\n",
    "print(f'Possible Permutations = {(n**r)}')\n",
    "\n",
    "from itertools import product\n",
    "\n",
    "#Compute and display catual permutaions (with replacement)\n",
    "for items in product(data, repeat=r):\n",
    "    for item in items:\n",
    "        print(f'{item} ' ,end='')\n",
    "    print()\n"
   ]
  },
  {
   "cell_type": "markdown",
   "metadata": {},
   "source": [
    "#### PERMUTATION WITHOUT REPLACEMENT\n",
    "\n",
    "On the other hand, permutation without replacement provides fewer options with each new selection. In the previous example [1, 2, 3], we have three ways to select our first number, two ways to select the second (since one number has been removed from the input set), and only one way to select the final number. Note that we cannot select more than three numbers from this input set without replacement. We can express this mathematically as $ 3 \\times 2 \\times 1$, which is used so often that a shorthand notation has been developed called **factorial**, which we represent by using the exclamation mark ($!$). Thus, in our specific case, we have $ 3 \\times 2 \\times 1 = 3!$, or in general $n!$ for an input set that has $n$ objects. \n",
    "\n",
    "If we were only interested in selecting one number from the input set, the answer is three. But what if our input set contained the numbers 1, 2, 3, and 4, and we wanted to know how many ways we could pick two numbers without replacement? In this case, we have four ways to select the first number, and three ways to select the second number, or $4 \\times 3$. Or, alternatively, we had to remove the last two multiplications, which we can do by writing out the full multiplication, as was the case for permutations with replacement, and dividing out by the number of ways that we aren't interested in counting, which in this case would be $2 \\times 1$. To write this in a simple math form, we can generalize this to select $r$ objects from a set of $n$ objects:\n",
    "\n",
    "$$ ^nP_r = \\frac{n!}{(n - r)!} $$\n",
    "\n",
    "In the following code example, we first compute the number from our formula before using the built-in function `permutations` to generate and display the available permutations.\n",
    "\n",
    "------"
   ]
  },
  {
   "cell_type": "markdown",
   "metadata": {},
   "source": [
    "##### CODE CELL"
   ]
  },
  {
   "cell_type": "code",
   "execution_count": 5,
   "metadata": {
    "ExecuteTime": {
     "end_time": "2018-11-22T12:18:25.047988Z",
     "start_time": "2018-11-22T12:18:25.034055Z"
    },
    "collapsed": false
   },
   "outputs": [
    {
     "name": "stdout",
     "output_type": "stream",
     "text": [
      "Input Data = [0 1 2 3]\n",
      "possible permutations = 12.0\n",
      "0 1 \n",
      "0 2 \n",
      "0 3 \n",
      "1 0 \n",
      "1 2 \n",
      "1 3 \n",
      "2 0 \n",
      "2 1 \n",
      "2 3 \n",
      "3 0 \n",
      "3 1 \n",
      "3 2 \n"
     ]
    }
   ],
   "source": [
    "# Display  ( using n, r from above example)\n",
    "print(\"Input Data = {}\".format(data))\n",
    "\n",
    "from math import factorial\n",
    "#compute factorial and display theoretical permutation count\n",
    "nf = factorial(n)\n",
    "nrf = factorial(n-r)\n",
    "print(f'possible permutations = {nf/nrf}')\n",
    "\n",
    "from itertools import permutations\n",
    "\n",
    "#compute and display actual permutations\n",
    "\n",
    "for items in permutations(data,r):\n",
    "    for item in items:\n",
    "        print(f'{item} ', end='')\n",
    "    print()"
   ]
  },
  {
   "cell_type": "markdown",
   "metadata": {},
   "source": [
    "### Combinations\n",
    "\n",
    "When we combine things together but the order doesn't matter, we have a statistical **combination**. Combinations are similar to permutations, described previously. However, since the order is not important in combinations, we have fewer options to count, thus the result is smaller. When we compute the number of options in a combination, we once again need to differentiate between computing a combination with replacement and without replacement.\n",
    "\n",
    "#### COMBINATION WITHOUT REPLACEMENT\n",
    "\n",
    "- First, we explore __combinations without replacement__. In this case, we can compute the number of permutations without replacement, which as shown earlier is given by \n",
    "\n",
    "$$ ^nP_r = \\frac{n!}{(n - r)!} $$\n",
    "\n",
    "However, since order is not important, this number must be reduced. Specifically, if we are selecting three items, there are $3! = 6$ ways they can be ordered. Or, in general, if are selecting $r$ items from a set of $n$, we have $r!$ ways to order the selection. Thus, in combination without replacement, we must reduce the permutation count by $r!$. Since this particular combination is used so frequently, it has a special name, $n \\choose r$.\n",
    "\n",
    "$$ ^nC_r = {n \\choose r} = \\frac{n!}{r!(n - r)!}$$\n",
    "\n",
    "Combination without replacement is demonstrated in the following code cell, where we compute the number of different combinations for our input data set.\n",
    "\n"
   ]
  },
  {
   "cell_type": "markdown",
   "metadata": {},
   "source": [
    "##### CODE CELL"
   ]
  },
  {
   "cell_type": "code",
   "execution_count": 6,
   "metadata": {
    "ExecuteTime": {
     "end_time": "2018-11-22T18:08:25.621527Z",
     "start_time": "2018-11-22T18:08:25.599905Z"
    },
    "collapsed": false
   },
   "outputs": [
    {
     "name": "stdout",
     "output_type": "stream",
     "text": [
      "Input data = [0 1 2 3]\n",
      "Possible combinations = 6.0\n",
      "0 1 \n",
      "0 2 \n",
      "0 3 \n",
      "1 2 \n",
      "1 3 \n",
      "2 3 \n"
     ]
    }
   ],
   "source": [
    "# Number of items in our input set\n",
    "n = 4\n",
    "\n",
    "# number of items to select at one time\n",
    "r = 2\n",
    "\n",
    "#create data\n",
    "data = np.arange(n)\n",
    "\n",
    "print('Input data = {}'.format(data))\n",
    "\n",
    "#compute factorials\n",
    "nf = factorial(n)\n",
    "nrf = factorial(n-r)\n",
    "rf = factorial(r)\n",
    "\n",
    "print(f\"Possible combinations = {nf/(nrf * rf)}\")\n",
    "\n",
    "from itertools import combinations\n",
    "\n",
    "#compute and display combinations\n",
    "\n",
    "for items in combinations(data,r):\n",
    "    for item in items:\n",
    "        print(f'{item} ', end='')\n",
    "    print()"
   ]
  },
  {
   "cell_type": "markdown",
   "metadata": {},
   "source": [
    "#### COMBINATION WITH REPLACEMENT\n",
    "\n",
    "Combination with replacement is more complex, thus we simply present the formula: \n",
    "\n",
    "$$ ^nC_r = {r + n - 1 \\choose r} = \\frac{(r + n - 1)!}{r!(n - 1)!}$$\n",
    "\n"
   ]
  },
  {
   "cell_type": "markdown",
   "metadata": {},
   "source": [
    "#### CODE CELL"
   ]
  },
  {
   "cell_type": "code",
   "execution_count": 8,
   "metadata": {
    "ExecuteTime": {
     "end_time": "2018-11-22T18:17:09.315482Z",
     "start_time": "2018-11-22T18:17:09.301253Z"
    },
    "collapsed": false
   },
   "outputs": [
    {
     "name": "stdout",
     "output_type": "stream",
     "text": [
      "Input data = [0 1 2 3]\n",
      "possible combinations = 10.0\n",
      "0 0 \n",
      "0 1 \n",
      "0 2 \n",
      "0 3 \n",
      "1 1 \n",
      "1 2 \n",
      "1 3 \n",
      "2 2 \n",
      "2 3 \n",
      "3 3 \n"
     ]
    }
   ],
   "source": [
    "# We reuse data\n",
    "\n",
    "print('Input data = {}'.format(data))\n",
    "\n",
    "# compute factorials\n",
    "nr1f = factorial(n+r-1)\n",
    "rf = factorial(r)\n",
    "n1f = factorial(n-1)\n",
    "\n",
    "print(f'possible combinations = {nr1f/(n1f * rf)}')\n",
    "\n",
    "from itertools import combinations_with_replacement\n",
    "\n",
    "#compute and display actual combinations\n",
    "for items in combinations_with_replacement(data,r):\n",
    "    for item in items:\n",
    "        print(f'{item} ',end='')\n",
    "    print()\n",
    "    "
   ]
  },
  {
   "cell_type": "markdown",
   "metadata": {},
   "source": [
    "## Challenge 1\n",
    "\n",
    "There are 10 kids what to order ice cream. Each one can choose between chocolate, vanilla or strawberry. You'll collect their choices and make one order, something like: 5 chocolate, 3 vanilla and 2 strawberry. How many possible orders can you make, where every flavor is represented (8c, 1v, 1s is valid but 8c, 2v, 0s is not valid)?\n",
    "\n",
    "Answer #1: If you write it out possibilities, chocolate can be between 8 to 1. If chocolate is 8, there is only option for vanilla, which is 1. If chocolate is 7, there are two options for vanilla (1 or 2), and so on. We can sum up those options, 1+2+3...+8, which is 8x9/2=36.\n",
    "\n",
    "Answer #2: You want two dividers between 1 and 10 to split the orders. The first block will be chocolate, the second vanilla and third strawberry. There are 9 gaps (between 1 and 10). The order of the two choices doesn't matter. So it's 9C2, which is 9x8/2 = 36.\n",
    "\n"
   ]
  },
  {
   "cell_type": "markdown",
   "metadata": {},
   "source": [
    "## Challenge 2\n",
    "\n",
    "Revisit the problem from the application:\n",
    "\n",
    "Six individuals are sitting in a circle. I have six cards, three red and three blue. If I randomly had each one a card, what is the probability that the colors would perfectly alternate, that is no two adjacent person has the same color?\n",
    "\n",
    "Answer: What the first person (player 0) gets doesn't matter. The color he got, there are 2 more left and we have to choose 2 from the other 5 to get that color. That's 5C2 = 5x4/2 = 10. Of those ten, only one suits our need: player 2 and 4 getting that color. So the probability is 1/10 = 0.1."
   ]
  },
  {
   "cell_type": "code",
   "execution_count": null,
   "metadata": {
    "collapsed": true
   },
   "outputs": [],
   "source": []
  }
 ],
 "metadata": {
  "kernelspec": {
   "display_name": "Python 3",
   "language": "python",
   "name": "python3"
  },
  "language_info": {
   "codemirror_mode": {
    "name": "ipython",
    "version": 3
   },
   "file_extension": ".py",
   "mimetype": "text/x-python",
   "name": "python",
   "nbconvert_exporter": "python",
   "pygments_lexer": "ipython3",
   "version": "3.6.6"
  },
  "varInspector": {
   "cols": {
    "lenName": 16,
    "lenType": 16,
    "lenVar": 40
   },
   "kernels_config": {
    "python": {
     "delete_cmd_postfix": "",
     "delete_cmd_prefix": "del ",
     "library": "var_list.py",
     "varRefreshCmd": "print(var_dic_list())"
    },
    "r": {
     "delete_cmd_postfix": ") ",
     "delete_cmd_prefix": "rm(",
     "library": "var_list.r",
     "varRefreshCmd": "cat(var_dic_list()) "
    }
   },
   "types_to_exclude": [
    "module",
    "function",
    "builtin_function_or_method",
    "instance",
    "_Feature"
   ],
   "window_display": false
  }
 },
 "nbformat": 4,
 "nbformat_minor": 2
}
